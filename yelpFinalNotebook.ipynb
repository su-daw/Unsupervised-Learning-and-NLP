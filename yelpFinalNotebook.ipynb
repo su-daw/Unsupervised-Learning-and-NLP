{
 "cells": [
  {
   "cell_type": "code",
   "execution_count": 1,
   "id": "03cc5c16",
   "metadata": {
    "scrolled": true
   },
   "outputs": [
    {
     "name": "stderr",
     "output_type": "stream",
     "text": [
      "[nltk_data] Downloading package wordnet to\n",
      "[nltk_data]     /Users/sultanahaldawsari/nltk_data...\n",
      "[nltk_data]   Package wordnet is already up-to-date!\n"
     ]
    }
   ],
   "source": [
    "import os.path\n",
    "import numpy as np\n",
    "import pandas as pd\n",
    "from wordcloud import WordCloud, STOPWORDS\n",
    "import matplotlib.pyplot as plt\n",
    "import seaborn as sns\n",
    "import nltk\n",
    "import re\n",
    "import string\n",
    "from sklearn.feature_extraction.text import CountVectorizer\n",
    "from gensim import corpora\n",
    "from gensim.models import LsiModel\n",
    "from nltk.tokenize import RegexpTokenizer\n",
    "from nltk.corpus import stopwords\n",
    "from nltk.stem.porter import PorterStemmer\n",
    "from gensim.models.coherencemodel import CoherenceModel\n",
    "from sklearn.feature_extraction.text import CountVectorizer \n",
    "from sklearn.decomposition import TruncatedSVD\n",
    "from sklearn.decomposition import NMF\n",
    "from sklearn.metrics.pairwise import cosine_similarity\n",
    "from nltk.corpus import stopwords\n",
    "from sklearn.feature_extraction.text import TfidfVectorizer\n",
    "from nltk.tokenize import word_tokenize,sent_tokenize\n",
    "from sklearn.decomposition import LatentDirichletAllocation\n",
    "#preprocessing\n",
    "from nltk.corpus import stopwords  #stopwords\n",
    "from nltk import word_tokenize,sent_tokenize # tokenizing\n",
    "from nltk.stem import PorterStemmer,LancasterStemmer  # using the Porter Stemmer and Lancaster Stemmer and others\n",
    "from nltk.stem.snowball import SnowballStemmer\n",
    "from nltk.stem import WordNetLemmatizer  # lammatizer from WordNet\n",
    "from sklearn.decomposition import TruncatedSVD\n",
    "# for named entity recognition (NER)\n",
    "from nltk import ne_chunk\n",
    "nltk.download('wordnet')\n",
    "from sklearn.model_selection import GridSearchCV\n",
    "from textblob import TextBlob\n",
    "from sklearn.metrics.pairwise import cosine_similarity \n",
    "from sklearn.metrics.pairwise import linear_kernel"
   ]
  },
  {
   "cell_type": "code",
   "execution_count": 2,
   "id": "b6dfa418",
   "metadata": {
    "scrolled": true
   },
   "outputs": [
    {
     "data": {
      "text/html": [
       "<div>\n",
       "<style scoped>\n",
       "    .dataframe tbody tr th:only-of-type {\n",
       "        vertical-align: middle;\n",
       "    }\n",
       "\n",
       "    .dataframe tbody tr th {\n",
       "        vertical-align: top;\n",
       "    }\n",
       "\n",
       "    .dataframe thead th {\n",
       "        text-align: right;\n",
       "    }\n",
       "</style>\n",
       "<table border=\"1\" class=\"dataframe\">\n",
       "  <thead>\n",
       "    <tr style=\"text-align: right;\">\n",
       "      <th></th>\n",
       "      <th>coffee_shop_name</th>\n",
       "      <th>review_text</th>\n",
       "      <th>rating</th>\n",
       "      <th>num_rating</th>\n",
       "      <th>cat_rating</th>\n",
       "      <th>bool_HIGH</th>\n",
       "      <th>overall_sent</th>\n",
       "      <th>vibe_sent</th>\n",
       "      <th>tea_sent</th>\n",
       "      <th>service_sent</th>\n",
       "      <th>seating_sent</th>\n",
       "      <th>price_sent</th>\n",
       "      <th>parking_sent</th>\n",
       "      <th>location_sent</th>\n",
       "      <th>alcohol_sent</th>\n",
       "      <th>coffee_sent</th>\n",
       "      <th>food_sent</th>\n",
       "      <th>hours_sent</th>\n",
       "      <th>internet_sent</th>\n",
       "      <th>local_sent</th>\n",
       "    </tr>\n",
       "  </thead>\n",
       "  <tbody>\n",
       "    <tr>\n",
       "      <th>0</th>\n",
       "      <td>The Factory - Cafe With a Soul</td>\n",
       "      <td>11/25/2016 1 check-in Love love loved the vib...</td>\n",
       "      <td>5.0 star rating</td>\n",
       "      <td>5.0</td>\n",
       "      <td>HIGH</td>\n",
       "      <td>1.0</td>\n",
       "      <td>4.0</td>\n",
       "      <td>3</td>\n",
       "      <td>0.0</td>\n",
       "      <td>0.0</td>\n",
       "      <td>0.0</td>\n",
       "      <td>0.0</td>\n",
       "      <td>0</td>\n",
       "      <td>0.0</td>\n",
       "      <td>1.0</td>\n",
       "      <td>3</td>\n",
       "      <td>0</td>\n",
       "      <td>0.0</td>\n",
       "      <td>0.0</td>\n",
       "      <td>0.0</td>\n",
       "    </tr>\n",
       "    <tr>\n",
       "      <th>1</th>\n",
       "      <td>The Factory - Cafe With a Soul</td>\n",
       "      <td>12/2/2016 Listed in Date Night: Austin, vibe ...</td>\n",
       "      <td>4.0 star rating</td>\n",
       "      <td>4.0</td>\n",
       "      <td>HIGH</td>\n",
       "      <td>1.0</td>\n",
       "      <td>3.0</td>\n",
       "      <td>3</td>\n",
       "      <td>0.0</td>\n",
       "      <td>0.0</td>\n",
       "      <td>0.0</td>\n",
       "      <td>0.0</td>\n",
       "      <td>0</td>\n",
       "      <td>0.0</td>\n",
       "      <td>0.0</td>\n",
       "      <td>0</td>\n",
       "      <td>2</td>\n",
       "      <td>0.0</td>\n",
       "      <td>0.0</td>\n",
       "      <td>0.0</td>\n",
       "    </tr>\n",
       "    <tr>\n",
       "      <th>2</th>\n",
       "      <td>The Factory - Cafe With a Soul</td>\n",
       "      <td>11/30/2016 1 check-in Listed in food seating ...</td>\n",
       "      <td>4.0 star rating</td>\n",
       "      <td>4.0</td>\n",
       "      <td>HIGH</td>\n",
       "      <td>1.0</td>\n",
       "      <td>2.0</td>\n",
       "      <td>2</td>\n",
       "      <td>0.0</td>\n",
       "      <td>0.0</td>\n",
       "      <td>3.0</td>\n",
       "      <td>0.0</td>\n",
       "      <td>0</td>\n",
       "      <td>0.0</td>\n",
       "      <td>0.0</td>\n",
       "      <td>-1</td>\n",
       "      <td>2</td>\n",
       "      <td>0.0</td>\n",
       "      <td>0.0</td>\n",
       "      <td>0.0</td>\n",
       "    </tr>\n",
       "    <tr>\n",
       "      <th>3</th>\n",
       "      <td>The Factory - Cafe With a Soul</td>\n",
       "      <td>11/25/2016 Very cool vibe! Good drinks Nice s...</td>\n",
       "      <td>2.0 star rating</td>\n",
       "      <td>2.0</td>\n",
       "      <td>LOW</td>\n",
       "      <td>0.0</td>\n",
       "      <td>1.0</td>\n",
       "      <td>0</td>\n",
       "      <td>0.0</td>\n",
       "      <td>0.0</td>\n",
       "      <td>-1.0</td>\n",
       "      <td>-1.0</td>\n",
       "      <td>0</td>\n",
       "      <td>0.0</td>\n",
       "      <td>0.0</td>\n",
       "      <td>0</td>\n",
       "      <td>0</td>\n",
       "      <td>0.0</td>\n",
       "      <td>0.0</td>\n",
       "      <td>0.0</td>\n",
       "    </tr>\n",
       "    <tr>\n",
       "      <th>4</th>\n",
       "      <td>The Factory - Cafe With a Soul</td>\n",
       "      <td>12/3/2016 1 check-in They are location within...</td>\n",
       "      <td>4.0 star rating</td>\n",
       "      <td>4.0</td>\n",
       "      <td>HIGH</td>\n",
       "      <td>1.0</td>\n",
       "      <td>2.0</td>\n",
       "      <td>0</td>\n",
       "      <td>0.0</td>\n",
       "      <td>0.0</td>\n",
       "      <td>0.0</td>\n",
       "      <td>0.0</td>\n",
       "      <td>3</td>\n",
       "      <td>0.0</td>\n",
       "      <td>0.0</td>\n",
       "      <td>0</td>\n",
       "      <td>0</td>\n",
       "      <td>0.0</td>\n",
       "      <td>0.0</td>\n",
       "      <td>0.0</td>\n",
       "    </tr>\n",
       "  </tbody>\n",
       "</table>\n",
       "</div>"
      ],
      "text/plain": [
       "                  coffee_shop_name  \\\n",
       "0  The Factory - Cafe With a Soul    \n",
       "1  The Factory - Cafe With a Soul    \n",
       "2  The Factory - Cafe With a Soul    \n",
       "3  The Factory - Cafe With a Soul    \n",
       "4  The Factory - Cafe With a Soul    \n",
       "\n",
       "                                         review_text             rating  \\\n",
       "0   11/25/2016 1 check-in Love love loved the vib...   5.0 star rating    \n",
       "1   12/2/2016 Listed in Date Night: Austin, vibe ...   4.0 star rating    \n",
       "2   11/30/2016 1 check-in Listed in food seating ...   4.0 star rating    \n",
       "3   11/25/2016 Very cool vibe! Good drinks Nice s...   2.0 star rating    \n",
       "4   12/3/2016 1 check-in They are location within...   4.0 star rating    \n",
       "\n",
       "   num_rating cat_rating  bool_HIGH  overall_sent vibe_sent  tea_sent  \\\n",
       "0         5.0       HIGH        1.0           4.0         3       0.0   \n",
       "1         4.0       HIGH        1.0           3.0         3       0.0   \n",
       "2         4.0       HIGH        1.0           2.0         2       0.0   \n",
       "3         2.0        LOW        0.0           1.0         0       0.0   \n",
       "4         4.0       HIGH        1.0           2.0         0       0.0   \n",
       "\n",
       "   service_sent  seating_sent  price_sent parking_sent  location_sent  \\\n",
       "0           0.0           0.0         0.0            0            0.0   \n",
       "1           0.0           0.0         0.0            0            0.0   \n",
       "2           0.0           3.0         0.0            0            0.0   \n",
       "3           0.0          -1.0        -1.0            0            0.0   \n",
       "4           0.0           0.0         0.0            3            0.0   \n",
       "\n",
       "   alcohol_sent coffee_sent food_sent  hours_sent  internet_sent  local_sent  \n",
       "0           1.0           3         0         0.0            0.0         0.0  \n",
       "1           0.0           0         2         0.0            0.0         0.0  \n",
       "2           0.0          -1         2         0.0            0.0         0.0  \n",
       "3           0.0           0         0         0.0            0.0         0.0  \n",
       "4           0.0           0         0         0.0            0.0         0.0  "
      ]
     },
     "execution_count": 2,
     "metadata": {},
     "output_type": "execute_result"
    }
   ],
   "source": [
    "data = pd.read_csv('/Users/sultanahaldawsari/Desktop/yelp2.csv', encoding= 'unicode_escape')\n",
    "data.head()"
   ]
  },
  {
   "cell_type": "code",
   "execution_count": 3,
   "id": "967ab798",
   "metadata": {
    "scrolled": true
   },
   "outputs": [
    {
     "data": {
      "text/plain": [
       "0        11/25/2016 1 check-in Love love loved the vib...\n",
       "1        12/2/2016 Listed in Date Night: Austin, vibe ...\n",
       "2        11/30/2016 1 check-in Listed in food seating ...\n",
       "3        11/25/2016 Very cool vibe! Good drinks Nice s...\n",
       "4        12/3/2016 1 check-in They are location within...\n",
       "                              ...                        \n",
       "7616                                                  NaN\n",
       "7617                                                  NaN\n",
       "7618                                                  NaN\n",
       "7619                                                  NaN\n",
       "7620                                                  NaN\n",
       "Name: review_text, Length: 7621, dtype: object"
      ]
     },
     "execution_count": 3,
     "metadata": {},
     "output_type": "execute_result"
    }
   ],
   "source": [
    "data.review_text"
   ]
  },
  {
   "cell_type": "code",
   "execution_count": 4,
   "id": "3f0e56c9",
   "metadata": {},
   "outputs": [],
   "source": [
    "data = data[['coffee_shop_name','review_text','rating']]"
   ]
  },
  {
   "cell_type": "code",
   "execution_count": 5,
   "id": "d3c370e7",
   "metadata": {},
   "outputs": [
    {
     "data": {
      "text/html": [
       "<div>\n",
       "<style scoped>\n",
       "    .dataframe tbody tr th:only-of-type {\n",
       "        vertical-align: middle;\n",
       "    }\n",
       "\n",
       "    .dataframe tbody tr th {\n",
       "        vertical-align: top;\n",
       "    }\n",
       "\n",
       "    .dataframe thead th {\n",
       "        text-align: right;\n",
       "    }\n",
       "</style>\n",
       "<table border=\"1\" class=\"dataframe\">\n",
       "  <thead>\n",
       "    <tr style=\"text-align: right;\">\n",
       "      <th></th>\n",
       "      <th>coffee_shop_name</th>\n",
       "      <th>review_text</th>\n",
       "      <th>rating</th>\n",
       "    </tr>\n",
       "  </thead>\n",
       "  <tbody>\n",
       "    <tr>\n",
       "      <th>0</th>\n",
       "      <td>The Factory - Cafe With a Soul</td>\n",
       "      <td>11/25/2016 1 check-in Love love loved the vib...</td>\n",
       "      <td>5.0 star rating</td>\n",
       "    </tr>\n",
       "    <tr>\n",
       "      <th>1</th>\n",
       "      <td>The Factory - Cafe With a Soul</td>\n",
       "      <td>12/2/2016 Listed in Date Night: Austin, vibe ...</td>\n",
       "      <td>4.0 star rating</td>\n",
       "    </tr>\n",
       "    <tr>\n",
       "      <th>2</th>\n",
       "      <td>The Factory - Cafe With a Soul</td>\n",
       "      <td>11/30/2016 1 check-in Listed in food seating ...</td>\n",
       "      <td>4.0 star rating</td>\n",
       "    </tr>\n",
       "    <tr>\n",
       "      <th>3</th>\n",
       "      <td>The Factory - Cafe With a Soul</td>\n",
       "      <td>11/25/2016 Very cool vibe! Good drinks Nice s...</td>\n",
       "      <td>2.0 star rating</td>\n",
       "    </tr>\n",
       "    <tr>\n",
       "      <th>4</th>\n",
       "      <td>The Factory - Cafe With a Soul</td>\n",
       "      <td>12/3/2016 1 check-in They are location within...</td>\n",
       "      <td>4.0 star rating</td>\n",
       "    </tr>\n",
       "  </tbody>\n",
       "</table>\n",
       "</div>"
      ],
      "text/plain": [
       "                  coffee_shop_name  \\\n",
       "0  The Factory - Cafe With a Soul    \n",
       "1  The Factory - Cafe With a Soul    \n",
       "2  The Factory - Cafe With a Soul    \n",
       "3  The Factory - Cafe With a Soul    \n",
       "4  The Factory - Cafe With a Soul    \n",
       "\n",
       "                                         review_text             rating  \n",
       "0   11/25/2016 1 check-in Love love loved the vib...   5.0 star rating   \n",
       "1   12/2/2016 Listed in Date Night: Austin, vibe ...   4.0 star rating   \n",
       "2   11/30/2016 1 check-in Listed in food seating ...   4.0 star rating   \n",
       "3   11/25/2016 Very cool vibe! Good drinks Nice s...   2.0 star rating   \n",
       "4   12/3/2016 1 check-in They are location within...   4.0 star rating   "
      ]
     },
     "execution_count": 5,
     "metadata": {},
     "output_type": "execute_result"
    }
   ],
   "source": [
    "data.head()"
   ]
  },
  {
   "cell_type": "markdown",
   "id": "062540db",
   "metadata": {},
   "source": [
    "# Data Inspecting and exploring"
   ]
  },
  {
   "cell_type": "code",
   "execution_count": 6,
   "id": "c6e4510a",
   "metadata": {
    "scrolled": false
   },
   "outputs": [
    {
     "data": {
      "text/plain": [
       "(7621, 3)"
      ]
     },
     "execution_count": 6,
     "metadata": {},
     "output_type": "execute_result"
    }
   ],
   "source": [
    "data.shape"
   ]
  },
  {
   "cell_type": "code",
   "execution_count": 7,
   "id": "19ad643f",
   "metadata": {
    "scrolled": true
   },
   "outputs": [
    {
     "name": "stdout",
     "output_type": "stream",
     "text": [
      "<class 'pandas.core.frame.DataFrame'>\n",
      "RangeIndex: 7621 entries, 0 to 7620\n",
      "Data columns (total 3 columns):\n",
      " #   Column            Non-Null Count  Dtype \n",
      "---  ------            --------------  ----- \n",
      " 0   coffee_shop_name  7616 non-null   object\n",
      " 1   review_text       7616 non-null   object\n",
      " 2   rating            7616 non-null   object\n",
      "dtypes: object(3)\n",
      "memory usage: 178.7+ KB\n"
     ]
    }
   ],
   "source": [
    "data.info()"
   ]
  },
  {
   "cell_type": "code",
   "execution_count": 8,
   "id": "f2b494bc",
   "metadata": {
    "scrolled": false
   },
   "outputs": [
    {
     "data": {
      "text/html": [
       "<div>\n",
       "<style scoped>\n",
       "    .dataframe tbody tr th:only-of-type {\n",
       "        vertical-align: middle;\n",
       "    }\n",
       "\n",
       "    .dataframe tbody tr th {\n",
       "        vertical-align: top;\n",
       "    }\n",
       "\n",
       "    .dataframe thead th {\n",
       "        text-align: right;\n",
       "    }\n",
       "</style>\n",
       "<table border=\"1\" class=\"dataframe\">\n",
       "  <thead>\n",
       "    <tr style=\"text-align: right;\">\n",
       "      <th></th>\n",
       "      <th>coffee_shop_name</th>\n",
       "      <th>review_text</th>\n",
       "      <th>rating</th>\n",
       "    </tr>\n",
       "  </thead>\n",
       "  <tbody>\n",
       "    <tr>\n",
       "      <th>count</th>\n",
       "      <td>7616</td>\n",
       "      <td>7616</td>\n",
       "      <td>7616</td>\n",
       "    </tr>\n",
       "    <tr>\n",
       "      <th>unique</th>\n",
       "      <td>78</td>\n",
       "      <td>6915</td>\n",
       "      <td>5</td>\n",
       "    </tr>\n",
       "    <tr>\n",
       "      <th>top</th>\n",
       "      <td>Epoch Coffee</td>\n",
       "      <td>11/25/2016 1 check-in Love love loved the vib...</td>\n",
       "      <td>5.0 star rating</td>\n",
       "    </tr>\n",
       "    <tr>\n",
       "      <th>freq</th>\n",
       "      <td>400</td>\n",
       "      <td>4</td>\n",
       "      <td>3780</td>\n",
       "    </tr>\n",
       "  </tbody>\n",
       "</table>\n",
       "</div>"
      ],
      "text/plain": [
       "       coffee_shop_name                                        review_text  \\\n",
       "count              7616                                               7616   \n",
       "unique               78                                               6915   \n",
       "top       Epoch Coffee    11/25/2016 1 check-in Love love loved the vib...   \n",
       "freq                400                                                  4   \n",
       "\n",
       "                   rating  \n",
       "count                7616  \n",
       "unique                  5  \n",
       "top      5.0 star rating   \n",
       "freq                 3780  "
      ]
     },
     "execution_count": 8,
     "metadata": {},
     "output_type": "execute_result"
    }
   ],
   "source": [
    "data.describe()"
   ]
  },
  {
   "cell_type": "code",
   "execution_count": 9,
   "id": "8912fe6d",
   "metadata": {
    "scrolled": true
   },
   "outputs": [
    {
     "data": {
      "text/plain": [
       "coffee_shop_name    5\n",
       "review_text         5\n",
       "rating              5\n",
       "dtype: int64"
      ]
     },
     "execution_count": 9,
     "metadata": {},
     "output_type": "execute_result"
    }
   ],
   "source": [
    "data.isna().sum()"
   ]
  },
  {
   "cell_type": "code",
   "execution_count": 10,
   "id": "487be187",
   "metadata": {},
   "outputs": [],
   "source": [
    "data.dropna(inplace = True)"
   ]
  },
  {
   "cell_type": "code",
   "execution_count": 11,
   "id": "5888f638",
   "metadata": {
    "scrolled": true
   },
   "outputs": [
    {
     "data": {
      "text/plain": [
       "coffee_shop_name    0\n",
       "review_text         0\n",
       "rating              0\n",
       "dtype: int64"
      ]
     },
     "execution_count": 11,
     "metadata": {},
     "output_type": "execute_result"
    }
   ],
   "source": [
    "data.isna().sum()"
   ]
  },
  {
   "cell_type": "markdown",
   "id": "342815ef",
   "metadata": {},
   "source": [
    "# Data Preprocessing "
   ]
  },
  {
   "cell_type": "code",
   "execution_count": 12,
   "id": "7da539d9",
   "metadata": {
    "scrolled": false
   },
   "outputs": [
    {
     "data": {
      "text/html": [
       "<div>\n",
       "<style scoped>\n",
       "    .dataframe tbody tr th:only-of-type {\n",
       "        vertical-align: middle;\n",
       "    }\n",
       "\n",
       "    .dataframe tbody tr th {\n",
       "        vertical-align: top;\n",
       "    }\n",
       "\n",
       "    .dataframe thead th {\n",
       "        text-align: right;\n",
       "    }\n",
       "</style>\n",
       "<table border=\"1\" class=\"dataframe\">\n",
       "  <thead>\n",
       "    <tr style=\"text-align: right;\">\n",
       "      <th></th>\n",
       "      <th>CafeName</th>\n",
       "      <th>Text</th>\n",
       "      <th>rating</th>\n",
       "    </tr>\n",
       "  </thead>\n",
       "  <tbody>\n",
       "    <tr>\n",
       "      <th>0</th>\n",
       "      <td>The Factory - Cafe With a Soul</td>\n",
       "      <td>11/25/2016 1 check-in Love love loved the vib...</td>\n",
       "      <td>5.0 star rating</td>\n",
       "    </tr>\n",
       "    <tr>\n",
       "      <th>1</th>\n",
       "      <td>The Factory - Cafe With a Soul</td>\n",
       "      <td>12/2/2016 Listed in Date Night: Austin, vibe ...</td>\n",
       "      <td>4.0 star rating</td>\n",
       "    </tr>\n",
       "    <tr>\n",
       "      <th>2</th>\n",
       "      <td>The Factory - Cafe With a Soul</td>\n",
       "      <td>11/30/2016 1 check-in Listed in food seating ...</td>\n",
       "      <td>4.0 star rating</td>\n",
       "    </tr>\n",
       "    <tr>\n",
       "      <th>3</th>\n",
       "      <td>The Factory - Cafe With a Soul</td>\n",
       "      <td>11/25/2016 Very cool vibe! Good drinks Nice s...</td>\n",
       "      <td>2.0 star rating</td>\n",
       "    </tr>\n",
       "    <tr>\n",
       "      <th>4</th>\n",
       "      <td>The Factory - Cafe With a Soul</td>\n",
       "      <td>12/3/2016 1 check-in They are location within...</td>\n",
       "      <td>4.0 star rating</td>\n",
       "    </tr>\n",
       "  </tbody>\n",
       "</table>\n",
       "</div>"
      ],
      "text/plain": [
       "                          CafeName  \\\n",
       "0  The Factory - Cafe With a Soul    \n",
       "1  The Factory - Cafe With a Soul    \n",
       "2  The Factory - Cafe With a Soul    \n",
       "3  The Factory - Cafe With a Soul    \n",
       "4  The Factory - Cafe With a Soul    \n",
       "\n",
       "                                                Text             rating  \n",
       "0   11/25/2016 1 check-in Love love loved the vib...   5.0 star rating   \n",
       "1   12/2/2016 Listed in Date Night: Austin, vibe ...   4.0 star rating   \n",
       "2   11/30/2016 1 check-in Listed in food seating ...   4.0 star rating   \n",
       "3   11/25/2016 Very cool vibe! Good drinks Nice s...   2.0 star rating   \n",
       "4   12/3/2016 1 check-in They are location within...   4.0 star rating   "
      ]
     },
     "execution_count": 12,
     "metadata": {},
     "output_type": "execute_result"
    }
   ],
   "source": [
    "data = data.rename(columns={'num_rating':'Stars', 'review_text':'Text', 'coffee_shop_name':'CafeName'})\n",
    "data.head()"
   ]
  },
  {
   "cell_type": "code",
   "execution_count": 13,
   "id": "a69dd0ef",
   "metadata": {},
   "outputs": [],
   "source": [
    "stopwords=set(stopwords.words('english'))\n",
    "stopwords2= stopwords.union({'good','great','one','get','would','could','always', 'like','also','food'})"
   ]
  },
  {
   "cell_type": "code",
   "execution_count": 14,
   "id": "a952295b",
   "metadata": {},
   "outputs": [
    {
     "data": {
      "text/html": [
       "<div>\n",
       "<style scoped>\n",
       "    .dataframe tbody tr th:only-of-type {\n",
       "        vertical-align: middle;\n",
       "    }\n",
       "\n",
       "    .dataframe tbody tr th {\n",
       "        vertical-align: top;\n",
       "    }\n",
       "\n",
       "    .dataframe thead th {\n",
       "        text-align: right;\n",
       "    }\n",
       "</style>\n",
       "<table border=\"1\" class=\"dataframe\">\n",
       "  <thead>\n",
       "    <tr style=\"text-align: right;\">\n",
       "      <th></th>\n",
       "      <th>CafeName</th>\n",
       "      <th>Text</th>\n",
       "      <th>rating</th>\n",
       "      <th>SwText</th>\n",
       "    </tr>\n",
       "  </thead>\n",
       "  <tbody>\n",
       "    <tr>\n",
       "      <th>0</th>\n",
       "      <td>The Factory - Cafe With a Soul</td>\n",
       "      <td>11/25/2016 1 check-in Love love loved the vib...</td>\n",
       "      <td>5.0 star rating</td>\n",
       "      <td>11/25/2016 1 check-in love love loved vibe! ev...</td>\n",
       "    </tr>\n",
       "    <tr>\n",
       "      <th>1</th>\n",
       "      <td>The Factory - Cafe With a Soul</td>\n",
       "      <td>12/2/2016 Listed in Date Night: Austin, vibe ...</td>\n",
       "      <td>4.0 star rating</td>\n",
       "      <td>12/2/2016 listed date night: austin, vibe aust...</td>\n",
       "    </tr>\n",
       "    <tr>\n",
       "      <th>2</th>\n",
       "      <td>The Factory - Cafe With a Soul</td>\n",
       "      <td>11/30/2016 1 check-in Listed in food seating ...</td>\n",
       "      <td>4.0 star rating</td>\n",
       "      <td>11/30/2016 1 check-in listed seating loved ecl...</td>\n",
       "    </tr>\n",
       "    <tr>\n",
       "      <th>3</th>\n",
       "      <td>The Factory - Cafe With a Soul</td>\n",
       "      <td>11/25/2016 Very cool vibe! Good drinks Nice s...</td>\n",
       "      <td>2.0 star rating</td>\n",
       "      <td>11/25/2016 cool vibe! drinks nice seating howe...</td>\n",
       "    </tr>\n",
       "    <tr>\n",
       "      <th>4</th>\n",
       "      <td>The Factory - Cafe With a Soul</td>\n",
       "      <td>12/3/2016 1 check-in They are location within...</td>\n",
       "      <td>4.0 star rating</td>\n",
       "      <td>12/3/2016 1 check-in location within northcros...</td>\n",
       "    </tr>\n",
       "  </tbody>\n",
       "</table>\n",
       "</div>"
      ],
      "text/plain": [
       "                          CafeName  \\\n",
       "0  The Factory - Cafe With a Soul    \n",
       "1  The Factory - Cafe With a Soul    \n",
       "2  The Factory - Cafe With a Soul    \n",
       "3  The Factory - Cafe With a Soul    \n",
       "4  The Factory - Cafe With a Soul    \n",
       "\n",
       "                                                Text             rating  \\\n",
       "0   11/25/2016 1 check-in Love love loved the vib...   5.0 star rating    \n",
       "1   12/2/2016 Listed in Date Night: Austin, vibe ...   4.0 star rating    \n",
       "2   11/30/2016 1 check-in Listed in food seating ...   4.0 star rating    \n",
       "3   11/25/2016 Very cool vibe! Good drinks Nice s...   2.0 star rating    \n",
       "4   12/3/2016 1 check-in They are location within...   4.0 star rating    \n",
       "\n",
       "                                              SwText  \n",
       "0  11/25/2016 1 check-in love love loved vibe! ev...  \n",
       "1  12/2/2016 listed date night: austin, vibe aust...  \n",
       "2  11/30/2016 1 check-in listed seating loved ecl...  \n",
       "3  11/25/2016 cool vibe! drinks nice seating howe...  \n",
       "4  12/3/2016 1 check-in location within northcros...  "
      ]
     },
     "execution_count": 14,
     "metadata": {},
     "output_type": "execute_result"
    }
   ],
   "source": [
    "data['SwText'] = data['Text'].apply(lambda x: ' '.join([word.lower() for word in x.split() if word.lower() not in (stopwords2)]))\n",
    "data.head()"
   ]
  },
  {
   "cell_type": "code",
   "execution_count": 15,
   "id": "12474892",
   "metadata": {},
   "outputs": [],
   "source": [
    "le=WordNetLemmatizer()\n",
    "data['LemmaText']=data['SwText'].apply(lambda x:le.lemmatize(x))"
   ]
  },
  {
   "cell_type": "code",
   "execution_count": 16,
   "id": "84736639",
   "metadata": {
    "scrolled": true
   },
   "outputs": [
    {
     "data": {
      "text/html": [
       "<div>\n",
       "<style scoped>\n",
       "    .dataframe tbody tr th:only-of-type {\n",
       "        vertical-align: middle;\n",
       "    }\n",
       "\n",
       "    .dataframe tbody tr th {\n",
       "        vertical-align: top;\n",
       "    }\n",
       "\n",
       "    .dataframe thead th {\n",
       "        text-align: right;\n",
       "    }\n",
       "</style>\n",
       "<table border=\"1\" class=\"dataframe\">\n",
       "  <thead>\n",
       "    <tr style=\"text-align: right;\">\n",
       "      <th></th>\n",
       "      <th>CafeName</th>\n",
       "      <th>Text</th>\n",
       "      <th>rating</th>\n",
       "      <th>SwText</th>\n",
       "      <th>LemmaText</th>\n",
       "      <th>PunText</th>\n",
       "    </tr>\n",
       "  </thead>\n",
       "  <tbody>\n",
       "    <tr>\n",
       "      <th>0</th>\n",
       "      <td>The Factory - Cafe With a Soul</td>\n",
       "      <td>11/25/2016 1 check-in Love love loved the vib...</td>\n",
       "      <td>5.0 star rating</td>\n",
       "      <td>11/25/2016 1 check-in love love loved vibe! ev...</td>\n",
       "      <td>11/25/2016 1 check-in love love loved vibe! ev...</td>\n",
       "      <td>11252016 1 checkin love love loved vibe every ...</td>\n",
       "    </tr>\n",
       "    <tr>\n",
       "      <th>1</th>\n",
       "      <td>The Factory - Cafe With a Soul</td>\n",
       "      <td>12/2/2016 Listed in Date Night: Austin, vibe ...</td>\n",
       "      <td>4.0 star rating</td>\n",
       "      <td>12/2/2016 listed date night: austin, vibe aust...</td>\n",
       "      <td>12/2/2016 listed date night: austin, vibe aust...</td>\n",
       "      <td>1222016 listed date night austin vibe austin b...</td>\n",
       "    </tr>\n",
       "    <tr>\n",
       "      <th>2</th>\n",
       "      <td>The Factory - Cafe With a Soul</td>\n",
       "      <td>11/30/2016 1 check-in Listed in food seating ...</td>\n",
       "      <td>4.0 star rating</td>\n",
       "      <td>11/30/2016 1 check-in listed seating loved ecl...</td>\n",
       "      <td>11/30/2016 1 check-in listed seating loved ecl...</td>\n",
       "      <td>11302016 1 checkin listed seating loved eclect...</td>\n",
       "    </tr>\n",
       "    <tr>\n",
       "      <th>3</th>\n",
       "      <td>The Factory - Cafe With a Soul</td>\n",
       "      <td>11/25/2016 Very cool vibe! Good drinks Nice s...</td>\n",
       "      <td>2.0 star rating</td>\n",
       "      <td>11/25/2016 cool vibe! drinks nice seating howe...</td>\n",
       "      <td>11/25/2016 cool vibe! drinks nice seating howe...</td>\n",
       "      <td>11252016 cool vibe drinks nice seating however...</td>\n",
       "    </tr>\n",
       "    <tr>\n",
       "      <th>4</th>\n",
       "      <td>The Factory - Cafe With a Soul</td>\n",
       "      <td>12/3/2016 1 check-in They are location within...</td>\n",
       "      <td>4.0 star rating</td>\n",
       "      <td>12/3/2016 1 check-in location within northcros...</td>\n",
       "      <td>12/3/2016 1 check-in location within northcros...</td>\n",
       "      <td>1232016 1 checkin location within northcross m...</td>\n",
       "    </tr>\n",
       "  </tbody>\n",
       "</table>\n",
       "</div>"
      ],
      "text/plain": [
       "                          CafeName  \\\n",
       "0  The Factory - Cafe With a Soul    \n",
       "1  The Factory - Cafe With a Soul    \n",
       "2  The Factory - Cafe With a Soul    \n",
       "3  The Factory - Cafe With a Soul    \n",
       "4  The Factory - Cafe With a Soul    \n",
       "\n",
       "                                                Text             rating  \\\n",
       "0   11/25/2016 1 check-in Love love loved the vib...   5.0 star rating    \n",
       "1   12/2/2016 Listed in Date Night: Austin, vibe ...   4.0 star rating    \n",
       "2   11/30/2016 1 check-in Listed in food seating ...   4.0 star rating    \n",
       "3   11/25/2016 Very cool vibe! Good drinks Nice s...   2.0 star rating    \n",
       "4   12/3/2016 1 check-in They are location within...   4.0 star rating    \n",
       "\n",
       "                                              SwText  \\\n",
       "0  11/25/2016 1 check-in love love loved vibe! ev...   \n",
       "1  12/2/2016 listed date night: austin, vibe aust...   \n",
       "2  11/30/2016 1 check-in listed seating loved ecl...   \n",
       "3  11/25/2016 cool vibe! drinks nice seating howe...   \n",
       "4  12/3/2016 1 check-in location within northcros...   \n",
       "\n",
       "                                           LemmaText  \\\n",
       "0  11/25/2016 1 check-in love love loved vibe! ev...   \n",
       "1  12/2/2016 listed date night: austin, vibe aust...   \n",
       "2  11/30/2016 1 check-in listed seating loved ecl...   \n",
       "3  11/25/2016 cool vibe! drinks nice seating howe...   \n",
       "4  12/3/2016 1 check-in location within northcros...   \n",
       "\n",
       "                                             PunText  \n",
       "0  11252016 1 checkin love love loved vibe every ...  \n",
       "1  1222016 listed date night austin vibe austin b...  \n",
       "2  11302016 1 checkin listed seating loved eclect...  \n",
       "3  11252016 cool vibe drinks nice seating however...  \n",
       "4  1232016 1 checkin location within northcross m...  "
      ]
     },
     "execution_count": 16,
     "metadata": {},
     "output_type": "execute_result"
    }
   ],
   "source": [
    "data['PunText'] = data['LemmaText'].apply(lambda x: x.translate(str.maketrans('','', string.punctuation))) \n",
    "data.head()"
   ]
  },
  {
   "cell_type": "code",
   "execution_count": 17,
   "id": "f982ead6",
   "metadata": {
    "scrolled": false
   },
   "outputs": [
    {
     "data": {
      "text/html": [
       "<div>\n",
       "<style scoped>\n",
       "    .dataframe tbody tr th:only-of-type {\n",
       "        vertical-align: middle;\n",
       "    }\n",
       "\n",
       "    .dataframe tbody tr th {\n",
       "        vertical-align: top;\n",
       "    }\n",
       "\n",
       "    .dataframe thead th {\n",
       "        text-align: right;\n",
       "    }\n",
       "</style>\n",
       "<table border=\"1\" class=\"dataframe\">\n",
       "  <thead>\n",
       "    <tr style=\"text-align: right;\">\n",
       "      <th></th>\n",
       "      <th>CafeName</th>\n",
       "      <th>Text</th>\n",
       "      <th>rating</th>\n",
       "      <th>SwText</th>\n",
       "      <th>LemmaText</th>\n",
       "      <th>PunText</th>\n",
       "      <th>TokenText</th>\n",
       "    </tr>\n",
       "  </thead>\n",
       "  <tbody>\n",
       "    <tr>\n",
       "      <th>0</th>\n",
       "      <td>The Factory - Cafe With a Soul</td>\n",
       "      <td>11/25/2016 1 check-in Love love loved the vib...</td>\n",
       "      <td>5.0 star rating</td>\n",
       "      <td>11/25/2016 1 check-in love love loved vibe! ev...</td>\n",
       "      <td>11/25/2016 1 check-in love love loved vibe! ev...</td>\n",
       "      <td>11252016 1 checkin love love loved vibe every ...</td>\n",
       "      <td>[11252016, 1, checkin, love, love, loved, vibe...</td>\n",
       "    </tr>\n",
       "    <tr>\n",
       "      <th>1</th>\n",
       "      <td>The Factory - Cafe With a Soul</td>\n",
       "      <td>12/2/2016 Listed in Date Night: Austin, vibe ...</td>\n",
       "      <td>4.0 star rating</td>\n",
       "      <td>12/2/2016 listed date night: austin, vibe aust...</td>\n",
       "      <td>12/2/2016 listed date night: austin, vibe aust...</td>\n",
       "      <td>1222016 listed date night austin vibe austin b...</td>\n",
       "      <td>[1222016, listed, date, night, austin, vibe, a...</td>\n",
       "    </tr>\n",
       "    <tr>\n",
       "      <th>2</th>\n",
       "      <td>The Factory - Cafe With a Soul</td>\n",
       "      <td>11/30/2016 1 check-in Listed in food seating ...</td>\n",
       "      <td>4.0 star rating</td>\n",
       "      <td>11/30/2016 1 check-in listed seating loved ecl...</td>\n",
       "      <td>11/30/2016 1 check-in listed seating loved ecl...</td>\n",
       "      <td>11302016 1 checkin listed seating loved eclect...</td>\n",
       "      <td>[11302016, 1, checkin, listed, seating, loved,...</td>\n",
       "    </tr>\n",
       "    <tr>\n",
       "      <th>3</th>\n",
       "      <td>The Factory - Cafe With a Soul</td>\n",
       "      <td>11/25/2016 Very cool vibe! Good drinks Nice s...</td>\n",
       "      <td>2.0 star rating</td>\n",
       "      <td>11/25/2016 cool vibe! drinks nice seating howe...</td>\n",
       "      <td>11/25/2016 cool vibe! drinks nice seating howe...</td>\n",
       "      <td>11252016 cool vibe drinks nice seating however...</td>\n",
       "      <td>[11252016, cool, vibe, drinks, nice, seating, ...</td>\n",
       "    </tr>\n",
       "    <tr>\n",
       "      <th>4</th>\n",
       "      <td>The Factory - Cafe With a Soul</td>\n",
       "      <td>12/3/2016 1 check-in They are location within...</td>\n",
       "      <td>4.0 star rating</td>\n",
       "      <td>12/3/2016 1 check-in location within northcros...</td>\n",
       "      <td>12/3/2016 1 check-in location within northcros...</td>\n",
       "      <td>1232016 1 checkin location within northcross m...</td>\n",
       "      <td>[1232016, 1, checkin, location, within, northc...</td>\n",
       "    </tr>\n",
       "  </tbody>\n",
       "</table>\n",
       "</div>"
      ],
      "text/plain": [
       "                          CafeName  \\\n",
       "0  The Factory - Cafe With a Soul    \n",
       "1  The Factory - Cafe With a Soul    \n",
       "2  The Factory - Cafe With a Soul    \n",
       "3  The Factory - Cafe With a Soul    \n",
       "4  The Factory - Cafe With a Soul    \n",
       "\n",
       "                                                Text             rating  \\\n",
       "0   11/25/2016 1 check-in Love love loved the vib...   5.0 star rating    \n",
       "1   12/2/2016 Listed in Date Night: Austin, vibe ...   4.0 star rating    \n",
       "2   11/30/2016 1 check-in Listed in food seating ...   4.0 star rating    \n",
       "3   11/25/2016 Very cool vibe! Good drinks Nice s...   2.0 star rating    \n",
       "4   12/3/2016 1 check-in They are location within...   4.0 star rating    \n",
       "\n",
       "                                              SwText  \\\n",
       "0  11/25/2016 1 check-in love love loved vibe! ev...   \n",
       "1  12/2/2016 listed date night: austin, vibe aust...   \n",
       "2  11/30/2016 1 check-in listed seating loved ecl...   \n",
       "3  11/25/2016 cool vibe! drinks nice seating howe...   \n",
       "4  12/3/2016 1 check-in location within northcros...   \n",
       "\n",
       "                                           LemmaText  \\\n",
       "0  11/25/2016 1 check-in love love loved vibe! ev...   \n",
       "1  12/2/2016 listed date night: austin, vibe aust...   \n",
       "2  11/30/2016 1 check-in listed seating loved ecl...   \n",
       "3  11/25/2016 cool vibe! drinks nice seating howe...   \n",
       "4  12/3/2016 1 check-in location within northcros...   \n",
       "\n",
       "                                             PunText  \\\n",
       "0  11252016 1 checkin love love loved vibe every ...   \n",
       "1  1222016 listed date night austin vibe austin b...   \n",
       "2  11302016 1 checkin listed seating loved eclect...   \n",
       "3  11252016 cool vibe drinks nice seating however...   \n",
       "4  1232016 1 checkin location within northcross m...   \n",
       "\n",
       "                                           TokenText  \n",
       "0  [11252016, 1, checkin, love, love, loved, vibe...  \n",
       "1  [1222016, listed, date, night, austin, vibe, a...  \n",
       "2  [11302016, 1, checkin, listed, seating, loved,...  \n",
       "3  [11252016, cool, vibe, drinks, nice, seating, ...  \n",
       "4  [1232016, 1, checkin, location, within, northc...  "
      ]
     },
     "execution_count": 17,
     "metadata": {},
     "output_type": "execute_result"
    }
   ],
   "source": [
    "data['TokenText'] = data['PunText'].apply(lambda x: word_tokenize(x))\n",
    "data.head()"
   ]
  },
  {
   "cell_type": "code",
   "execution_count": 19,
   "id": "1a704976",
   "metadata": {},
   "outputs": [],
   "source": [
    "data['CleanText']= data['TokenText'].apply(lambda x: ' '.join(x))"
   ]
  },
  {
   "cell_type": "code",
   "execution_count": 20,
   "id": "3066ccb8",
   "metadata": {
    "scrolled": true
   },
   "outputs": [
    {
     "data": {
      "text/html": [
       "<div>\n",
       "<style scoped>\n",
       "    .dataframe tbody tr th:only-of-type {\n",
       "        vertical-align: middle;\n",
       "    }\n",
       "\n",
       "    .dataframe tbody tr th {\n",
       "        vertical-align: top;\n",
       "    }\n",
       "\n",
       "    .dataframe thead th {\n",
       "        text-align: right;\n",
       "    }\n",
       "</style>\n",
       "<table border=\"1\" class=\"dataframe\">\n",
       "  <thead>\n",
       "    <tr style=\"text-align: right;\">\n",
       "      <th></th>\n",
       "      <th>CafeName</th>\n",
       "      <th>Text</th>\n",
       "      <th>rating</th>\n",
       "      <th>SwText</th>\n",
       "      <th>LemmaText</th>\n",
       "      <th>PunText</th>\n",
       "      <th>TokenText</th>\n",
       "      <th>CleanText</th>\n",
       "      <th>NumCleanText</th>\n",
       "    </tr>\n",
       "  </thead>\n",
       "  <tbody>\n",
       "    <tr>\n",
       "      <th>0</th>\n",
       "      <td>The Factory - Cafe With a Soul</td>\n",
       "      <td>11/25/2016 1 check-in Love love loved the vib...</td>\n",
       "      <td>5.0 star rating</td>\n",
       "      <td>11/25/2016 1 check-in love love loved vibe! ev...</td>\n",
       "      <td>11/25/2016 1 check-in love love loved vibe! ev...</td>\n",
       "      <td>11252016 1 checkin love love loved vibe every ...</td>\n",
       "      <td>[11252016, 1, checkin, love, love, loved, vibe...</td>\n",
       "      <td>11252016 1 checkin love love loved vibe every ...</td>\n",
       "      <td>checkin love love loved vibe every corner co...</td>\n",
       "    </tr>\n",
       "    <tr>\n",
       "      <th>1</th>\n",
       "      <td>The Factory - Cafe With a Soul</td>\n",
       "      <td>12/2/2016 Listed in Date Night: Austin, vibe ...</td>\n",
       "      <td>4.0 star rating</td>\n",
       "      <td>12/2/2016 listed date night: austin, vibe aust...</td>\n",
       "      <td>12/2/2016 listed date night: austin, vibe aust...</td>\n",
       "      <td>1222016 listed date night austin vibe austin b...</td>\n",
       "      <td>[1222016, listed, date, night, austin, vibe, a...</td>\n",
       "      <td>1222016 listed date night austin vibe austin b...</td>\n",
       "      <td>listed date night austin vibe austin beautifu...</td>\n",
       "    </tr>\n",
       "    <tr>\n",
       "      <th>2</th>\n",
       "      <td>The Factory - Cafe With a Soul</td>\n",
       "      <td>11/30/2016 1 check-in Listed in food seating ...</td>\n",
       "      <td>4.0 star rating</td>\n",
       "      <td>11/30/2016 1 check-in listed seating loved ecl...</td>\n",
       "      <td>11/30/2016 1 check-in listed seating loved ecl...</td>\n",
       "      <td>11302016 1 checkin listed seating loved eclect...</td>\n",
       "      <td>[11302016, 1, checkin, listed, seating, loved,...</td>\n",
       "      <td>11302016 1 checkin listed seating loved eclect...</td>\n",
       "      <td>checkin listed seating loved eclectic homey ...</td>\n",
       "    </tr>\n",
       "    <tr>\n",
       "      <th>3</th>\n",
       "      <td>The Factory - Cafe With a Soul</td>\n",
       "      <td>11/25/2016 Very cool vibe! Good drinks Nice s...</td>\n",
       "      <td>2.0 star rating</td>\n",
       "      <td>11/25/2016 cool vibe! drinks nice seating howe...</td>\n",
       "      <td>11/25/2016 cool vibe! drinks nice seating howe...</td>\n",
       "      <td>11252016 cool vibe drinks nice seating however...</td>\n",
       "      <td>[11252016, cool, vibe, drinks, nice, seating, ...</td>\n",
       "      <td>11252016 cool vibe drinks nice seating however...</td>\n",
       "      <td>cool vibe drinks nice seating however everyth...</td>\n",
       "    </tr>\n",
       "    <tr>\n",
       "      <th>4</th>\n",
       "      <td>The Factory - Cafe With a Soul</td>\n",
       "      <td>12/3/2016 1 check-in They are location within...</td>\n",
       "      <td>4.0 star rating</td>\n",
       "      <td>12/3/2016 1 check-in location within northcros...</td>\n",
       "      <td>12/3/2016 1 check-in location within northcros...</td>\n",
       "      <td>1232016 1 checkin location within northcross m...</td>\n",
       "      <td>[1232016, 1, checkin, location, within, northc...</td>\n",
       "      <td>1232016 1 checkin location within northcross m...</td>\n",
       "      <td>checkin location within northcross mall shop...</td>\n",
       "    </tr>\n",
       "  </tbody>\n",
       "</table>\n",
       "</div>"
      ],
      "text/plain": [
       "                          CafeName  \\\n",
       "0  The Factory - Cafe With a Soul    \n",
       "1  The Factory - Cafe With a Soul    \n",
       "2  The Factory - Cafe With a Soul    \n",
       "3  The Factory - Cafe With a Soul    \n",
       "4  The Factory - Cafe With a Soul    \n",
       "\n",
       "                                                Text             rating  \\\n",
       "0   11/25/2016 1 check-in Love love loved the vib...   5.0 star rating    \n",
       "1   12/2/2016 Listed in Date Night: Austin, vibe ...   4.0 star rating    \n",
       "2   11/30/2016 1 check-in Listed in food seating ...   4.0 star rating    \n",
       "3   11/25/2016 Very cool vibe! Good drinks Nice s...   2.0 star rating    \n",
       "4   12/3/2016 1 check-in They are location within...   4.0 star rating    \n",
       "\n",
       "                                              SwText  \\\n",
       "0  11/25/2016 1 check-in love love loved vibe! ev...   \n",
       "1  12/2/2016 listed date night: austin, vibe aust...   \n",
       "2  11/30/2016 1 check-in listed seating loved ecl...   \n",
       "3  11/25/2016 cool vibe! drinks nice seating howe...   \n",
       "4  12/3/2016 1 check-in location within northcros...   \n",
       "\n",
       "                                           LemmaText  \\\n",
       "0  11/25/2016 1 check-in love love loved vibe! ev...   \n",
       "1  12/2/2016 listed date night: austin, vibe aust...   \n",
       "2  11/30/2016 1 check-in listed seating loved ecl...   \n",
       "3  11/25/2016 cool vibe! drinks nice seating howe...   \n",
       "4  12/3/2016 1 check-in location within northcros...   \n",
       "\n",
       "                                             PunText  \\\n",
       "0  11252016 1 checkin love love loved vibe every ...   \n",
       "1  1222016 listed date night austin vibe austin b...   \n",
       "2  11302016 1 checkin listed seating loved eclect...   \n",
       "3  11252016 cool vibe drinks nice seating however...   \n",
       "4  1232016 1 checkin location within northcross m...   \n",
       "\n",
       "                                           TokenText  \\\n",
       "0  [11252016, 1, checkin, love, love, loved, vibe...   \n",
       "1  [1222016, listed, date, night, austin, vibe, a...   \n",
       "2  [11302016, 1, checkin, listed, seating, loved,...   \n",
       "3  [11252016, cool, vibe, drinks, nice, seating, ...   \n",
       "4  [1232016, 1, checkin, location, within, northc...   \n",
       "\n",
       "                                           CleanText  \\\n",
       "0  11252016 1 checkin love love loved vibe every ...   \n",
       "1  1222016 listed date night austin vibe austin b...   \n",
       "2  11302016 1 checkin listed seating loved eclect...   \n",
       "3  11252016 cool vibe drinks nice seating however...   \n",
       "4  1232016 1 checkin location within northcross m...   \n",
       "\n",
       "                                        NumCleanText  \n",
       "0    checkin love love loved vibe every corner co...  \n",
       "1   listed date night austin vibe austin beautifu...  \n",
       "2    checkin listed seating loved eclectic homey ...  \n",
       "3   cool vibe drinks nice seating however everyth...  \n",
       "4    checkin location within northcross mall shop...  "
      ]
     },
     "execution_count": 20,
     "metadata": {},
     "output_type": "execute_result"
    }
   ],
   "source": [
    "data['NumCleanText']= data['CleanText'].apply(lambda x: x.translate(str.maketrans('','', string.digits))) \n",
    "data.head()"
   ]
  },
  {
   "cell_type": "code",
   "execution_count": 22,
   "id": "a21c1ce7",
   "metadata": {},
   "outputs": [],
   "source": [
    "data.drop(['Text', 'SwText','LemmaText','PunText','TokenText','CleanText'], axis = 1, inplace = True)"
   ]
  },
  {
   "cell_type": "code",
   "execution_count": 25,
   "id": "2ab4b7d4",
   "metadata": {},
   "outputs": [
    {
     "data": {
      "text/plain": [
       "78"
      ]
     },
     "execution_count": 25,
     "metadata": {},
     "output_type": "execute_result"
    }
   ],
   "source": [
    "data.CafeName.nunique()"
   ]
  },
  {
   "cell_type": "code",
   "execution_count": 28,
   "id": "305d6efe",
   "metadata": {},
   "outputs": [
    {
     "name": "stderr",
     "output_type": "stream",
     "text": [
      "/Users/sultanahaldawsari/opt/anaconda3/lib/python3.8/site-packages/sklearn/utils/deprecation.py:87: FutureWarning: Function get_feature_names is deprecated; get_feature_names is deprecated in 1.0 and will be removed in 1.2. Please use get_feature_names_out instead.\n",
      "  warnings.warn(msg, category=FutureWarning)\n"
     ]
    }
   ],
   "source": [
    "cv= CountVectorizer()\n",
    "X = cv.fit_transform(data['NumCleanText'])\n",
    "names=pd.DataFrame(X.toarray(),columns=cv.get_feature_names())"
   ]
  },
  {
   "cell_type": "code",
   "execution_count": 29,
   "id": "8e113911",
   "metadata": {
    "scrolled": true
   },
   "outputs": [
    {
     "data": {
      "text/plain": [
       "(7616, 19702)"
      ]
     },
     "execution_count": 29,
     "metadata": {},
     "output_type": "execute_result"
    }
   ],
   "source": [
    "names.shape"
   ]
  },
  {
   "cell_type": "markdown",
   "id": "5bc855f9",
   "metadata": {},
   "source": [
    "# Visualization"
   ]
  },
  {
   "cell_type": "code",
   "execution_count": 34,
   "id": "e8b9bb98",
   "metadata": {
    "scrolled": true
   },
   "outputs": [
    {
     "data": {
      "image/png": "[encoded data removed]",
      "text/plain": [
       "<Figure size 720x1080 with 1 Axes>"
      ]
     },
     "metadata": {
      "needs_background": "light"
     },
     "output_type": "display_data"
    }
   ],
   "source": [
    "word_cloud = WordCloud(width = 2000,\n",
    "                       height = 800,\n",
    "                       colormap = 'Blues', \n",
    "                       margin = 0,\n",
    "                       max_words = 200,  \n",
    "                       min_word_length = 4,\n",
    "                       max_font_size = 120, min_font_size = 15,  \n",
    "                       background_color = \"white\").generate(\" \".join(data['NumCleanText']))\n",
    "\n",
    "plt.figure(figsize = (10, 15))\n",
    "plt.imshow(word_cloud, interpolation = \"gaussian\")\n",
    "plt.axis(\"off\")\n",
    "plt.show()"
   ]
  },
  {
   "cell_type": "code",
   "execution_count": 35,
   "id": "a1655dd8",
   "metadata": {},
   "outputs": [],
   "source": [
    "def get_top_ngram(corpus, n=None):\n",
    "    vec = CountVectorizer(ngram_range=(n, n)).fit(corpus)\n",
    "    bag_of_words = vec.transform(corpus)\n",
    "    sum_words = bag_of_words.sum(axis=0) \n",
    "    words_freq = [(word, sum_words[0, idx]) \n",
    "                  for word, idx in vec.vocabulary_.items()]\n",
    "    words_freq =sorted(words_freq, key = lambda x: x[1], reverse=True)\n",
    "    return words_freq[:10]"
   ]
  },
  {
   "cell_type": "code",
   "execution_count": 38,
   "id": "5c03b89e",
   "metadata": {},
   "outputs": [
    {
     "data": {
      "text/plain": [
       "<AxesSubplot:>"
      ]
     },
     "execution_count": 38,
     "metadata": {},
     "output_type": "execute_result"
    },
    {
     "data": {
      "image/png": "[encoded data removed]",
      "text/plain": [
       "<Figure size 432x288 with 1 Axes>"
      ]
     },
     "metadata": {
      "needs_background": "light"
     },
     "output_type": "display_data"
    }
   ],
   "source": [
    "top_trigrams = get_top_ngram(data['NumCleanText'],1)[:10]\n",
    "x,y = map(list,zip(*top_trigrams))\n",
    "sns.barplot(x = y,y = x)"
   ]
  },
  {
   "cell_type": "markdown",
   "id": "f314f49a",
   "metadata": {},
   "source": [
    "# Topic Modeling"
   ]
  },
  {
   "cell_type": "code",
   "execution_count": 40,
   "id": "9b391d3a",
   "metadata": {
    "scrolled": true
   },
   "outputs": [
    {
     "name": "stdout",
     "output_type": "stream",
     "text": [
      "(7616, 19579)\n",
      "  (0, 8445)\t0.18284399710294943\n",
      "  (0, 10446)\t0.12154501216436697\n",
      "  (0, 13107)\t0.211228975343706\n",
      "  (0, 9867)\t0.211228975343706\n",
      "  (0, 6697)\t0.10928800649531259\n",
      "  (0, 6129)\t0.21896140154356786\n",
      "  (0, 7875)\t0.14005648623497072\n",
      "  (0, 18042)\t0.1407797148051641\n",
      "  (0, 8216)\t0.15798287790954543\n",
      "  (0, 10810)\t0.11490981478126411\n",
      "  (0, 19190)\t0.14900533600801538\n",
      "  (0, 7361)\t0.08052710081854517\n",
      "  (0, 17021)\t0.1553369688626232\n",
      "  (0, 2654)\t0.2148180819920077\n",
      "  (0, 16967)\t0.1407797148051641\n",
      "  (0, 9736)\t0.1521711524353193\n",
      "  (0, 4546)\t0.18943249008937452\n",
      "  (0, 378)\t0.09761855910947914\n",
      "  (0, 13761)\t0.21896140154356786\n",
      "  (0, 15051)\t0.1514347125728839\n",
      "  (0, 1505)\t0.14967733034730893\n",
      "  (0, 8573)\t0.1739676376896508\n",
      "  (0, 8939)\t0.1594103836321917\n",
      "  (0, 16548)\t0.2148180819920077\n",
      "  (0, 13302)\t0.07940806651705587\n",
      "  :\t:\n",
      "  (7614, 13905)\t0.15525243607726413\n",
      "  (7614, 6146)\t0.15916332740614178\n",
      "  (7614, 17198)\t0.14486139893290922\n",
      "  (7614, 19012)\t0.15712368666608093\n",
      "  (7614, 17422)\t0.16692306379186084\n",
      "  (7614, 7254)\t0.11786214873487647\n",
      "  (7614, 6001)\t0.2339697739832888\n",
      "  (7614, 6826)\t0.1109747194469613\n",
      "  (7614, 1035)\t0.22698728211334795\n",
      "  (7614, 12842)\t0.07470609455723054\n",
      "  (7614, 1105)\t0.1087129561520035\n",
      "  (7614, 13381)\t0.16773076823994681\n",
      "  (7614, 3040)\t0.05563094549411133\n",
      "  (7615, 3234)\t0.46687577548055376\n",
      "  (7615, 16010)\t0.363451564977067\n",
      "  (7615, 3026)\t0.32602288983452393\n",
      "  (7615, 19491)\t0.3216459517121316\n",
      "  (7615, 16493)\t0.27193766349075554\n",
      "  (7615, 2560)\t0.24523285645068865\n",
      "  (7615, 4429)\t0.16873606819205728\n",
      "  (7615, 7203)\t0.2829339781364152\n",
      "  (7615, 6249)\t0.2925495035264715\n",
      "  (7615, 8488)\t0.16166411865166194\n",
      "  (7615, 17198)\t0.20266752039253996\n",
      "  (7615, 10720)\t0.21160236468537755\n"
     ]
    }
   ],
   "source": [
    "#fit the text to Tfidf vectorizer to weight every word depend on how much it appears in the text -most frequent word less weight-\n",
    "vect =TfidfVectorizer(stop_words=stopwords)\n",
    "vect_text=vect.fit_transform(data['NumCleanText'])\n",
    "print(vect_text.shape)\n",
    "print(vect_text)"
   ]
  },
  {
   "cell_type": "code",
   "execution_count": 41,
   "id": "f4f18f1e",
   "metadata": {},
   "outputs": [],
   "source": [
    "idf=vect.idf_"
   ]
  },
  {
   "cell_type": "code",
   "execution_count": 42,
   "id": "420b857d",
   "metadata": {
    "scrolled": false
   },
   "outputs": [
    {
     "name": "stdout",
     "output_type": "stream",
     "text": [
      "coffee ýô\n"
     ]
    },
    {
     "name": "stderr",
     "output_type": "stream",
     "text": [
      "/Users/sultanahaldawsari/opt/anaconda3/lib/python3.8/site-packages/sklearn/utils/deprecation.py:87: FutureWarning: Function get_feature_names is deprecated; get_feature_names is deprecated in 1.0 and will be removed in 1.2. Please use get_feature_names_out instead.\n",
      "  warnings.warn(msg, category=FutureWarning)\n"
     ]
    }
   ],
   "source": [
    "# shows most frequent word and least frequent word\n",
    "dd=dict(zip(vect.get_feature_names(), idf))\n",
    "l=sorted(dd, key=(dd).get)\n",
    "# print(l)\n",
    "print(l[0],l[-1])"
   ]
  },
  {
   "cell_type": "markdown",
   "id": "d14145c5",
   "metadata": {},
   "source": [
    "# Latent semantic analysis (LSA)"
   ]
  },
  {
   "cell_type": "code",
   "execution_count": 43,
   "id": "69694c86",
   "metadata": {},
   "outputs": [
    {
     "name": "stdout",
     "output_type": "stream",
     "text": [
      "[[ 0.20318078  0.08978483 -0.00762278]\n",
      " [ 0.14582854 -0.05298792  0.07763262]\n",
      " [ 0.27889028 -0.01990666 -0.00074327]\n",
      " ...\n",
      " [ 0.13590482 -0.16659854 -0.03473619]\n",
      " [ 0.14036344 -0.0388955  -0.01462414]\n",
      " [ 0.0894518  -0.05601005 -0.10059978]]\n",
      "(7616, 3)\n"
     ]
    }
   ],
   "source": [
    "#defined the model\n",
    "lsa_model = TruncatedSVD(n_components=3, random_state=42)\n",
    "#fit the model\n",
    "lsa_top=lsa_model.fit_transform(vect_text)\n",
    "print(lsa_top)\n",
    "print(lsa_top.shape)"
   ]
  },
  {
   "cell_type": "code",
   "execution_count": 44,
   "id": "010899c8",
   "metadata": {
    "scrolled": true
   },
   "outputs": [
    {
     "name": "stdout",
     "output_type": "stream",
     "text": [
      "Document 0 :\n",
      "Topic  0  :  20.3180777420467\n",
      "Topic  1  :  8.978482500438348\n",
      "Topic  2  :  -0.7622780354833926\n"
     ]
    }
   ],
   "source": [
    "# weight .of each topic in the document \n",
    "l=lsa_top[0]\n",
    "print(\"Document 0 :\")\n",
    "for i,topic in enumerate(l):\n",
    "    print(\"Topic \",i,\" : \",topic*100)"
   ]
  },
  {
   "cell_type": "code",
   "execution_count": 45,
   "id": "d1348a54",
   "metadata": {
    "scrolled": true
   },
   "outputs": [
    {
     "name": "stdout",
     "output_type": "stream",
     "text": [
      "(3, 19579)\n",
      "[[ 1.84177655e-04  1.45407103e-04  2.08391849e-04 ...  1.04890526e-05\n",
      "   1.04890526e-05  1.04890526e-05]\n",
      " [ 2.44940880e-04 -1.79813114e-04 -2.18222341e-04 ... -6.85972410e-05\n",
      "  -6.85972410e-05 -6.85972410e-05]\n",
      " [-4.00015433e-04  1.13256787e-04  3.26108363e-04 ... -5.08720984e-05\n",
      "  -5.08720984e-05 -5.08720984e-05]]\n"
     ]
    }
   ],
   "source": [
    "#words that has most weight to each topic\n",
    "print(lsa_model.components_.shape) \n",
    "print(lsa_model.components_)"
   ]
  },
  {
   "cell_type": "code",
   "execution_count": 49,
   "id": "ae307ce6",
   "metadata": {
    "scrolled": true
   },
   "outputs": [
    {
     "name": "stdout",
     "output_type": "stream",
     "text": [
      "Topic 0: \n",
      "coffee vibe place service seating food really austin love friendly \n",
      "\n",
      "Topic 1: \n",
      "coffee shop iced moon cup shops cold beans milk starbucks \n",
      "\n",
      "Topic 2: \n",
      "vibe seating internet work place nice outdoor seatings lots parking \n",
      "\n"
     ]
    }
   ],
   "source": [
    "# most important words for each topic\n",
    "vocab = vect.get_feature_names()\n",
    "\n",
    "for i, comp in enumerate(lsa_model.components_):\n",
    "    vocab_comp = zip(vocab, comp)\n",
    "    sorted_words = sorted(vocab_comp, key= lambda x:x[1], reverse=True)[:10]\n",
    "    print(\"Topic \"+str(i)+\": \")\n",
    "    for t in sorted_words:\n",
    "        print(t[0],end=\" \")\n",
    "    print(\"\\n\")\n",
    "         "
   ]
  },
  {
   "cell_type": "markdown",
   "id": "2bc5e358",
   "metadata": {},
   "source": [
    "# Sentiment Analysis"
   ]
  },
  {
   "cell_type": "code",
   "execution_count": 51,
   "id": "4d83cdf6",
   "metadata": {
    "scrolled": true
   },
   "outputs": [],
   "source": [
    "def getSubjectivity(text):\n",
    "    return TextBlob(text).sentiment.subjectivity\n",
    "\n",
    "def getPolarity(text):\n",
    "    return TextBlob(text).sentiment.polarity\n",
    "\n",
    "data['Subjectivity'] =data['NumCleanText'].apply(getSubjectivity)\n",
    "data['Polarity'] = data['NumCleanText'].apply(getPolarity)"
   ]
  },
  {
   "cell_type": "code",
   "execution_count": 52,
   "id": "482c1a88",
   "metadata": {},
   "outputs": [
    {
     "data": {
      "text/html": [
       "<div>\n",
       "<style scoped>\n",
       "    .dataframe tbody tr th:only-of-type {\n",
       "        vertical-align: middle;\n",
       "    }\n",
       "\n",
       "    .dataframe tbody tr th {\n",
       "        vertical-align: top;\n",
       "    }\n",
       "\n",
       "    .dataframe thead th {\n",
       "        text-align: right;\n",
       "    }\n",
       "</style>\n",
       "<table border=\"1\" class=\"dataframe\">\n",
       "  <thead>\n",
       "    <tr style=\"text-align: right;\">\n",
       "      <th></th>\n",
       "      <th>CafeName</th>\n",
       "      <th>rating</th>\n",
       "      <th>NumCleanText</th>\n",
       "      <th>Subjectivity</th>\n",
       "      <th>Polarity</th>\n",
       "      <th>Analysis</th>\n",
       "    </tr>\n",
       "  </thead>\n",
       "  <tbody>\n",
       "    <tr>\n",
       "      <th>0</th>\n",
       "      <td>The Factory - Cafe With a Soul</td>\n",
       "      <td>5.0 star rating</td>\n",
       "      <td>checkin love love loved vibe every corner co...</td>\n",
       "      <td>0.700000</td>\n",
       "      <td>0.356667</td>\n",
       "      <td>Positive</td>\n",
       "    </tr>\n",
       "    <tr>\n",
       "      <th>1</th>\n",
       "      <td>The Factory - Cafe With a Soul</td>\n",
       "      <td>4.0 star rating</td>\n",
       "      <td>listed date night austin vibe austin beautifu...</td>\n",
       "      <td>0.728571</td>\n",
       "      <td>0.367857</td>\n",
       "      <td>Positive</td>\n",
       "    </tr>\n",
       "    <tr>\n",
       "      <th>2</th>\n",
       "      <td>The Factory - Cafe With a Soul</td>\n",
       "      <td>4.0 star rating</td>\n",
       "      <td>checkin listed seating loved eclectic homey ...</td>\n",
       "      <td>0.511574</td>\n",
       "      <td>0.137963</td>\n",
       "      <td>Positive</td>\n",
       "    </tr>\n",
       "    <tr>\n",
       "      <th>3</th>\n",
       "      <td>The Factory - Cafe With a Soul</td>\n",
       "      <td>2.0 star rating</td>\n",
       "      <td>cool vibe drinks nice seating however everyth...</td>\n",
       "      <td>0.536111</td>\n",
       "      <td>0.022222</td>\n",
       "      <td>Positive</td>\n",
       "    </tr>\n",
       "    <tr>\n",
       "      <th>4</th>\n",
       "      <td>The Factory - Cafe With a Soul</td>\n",
       "      <td>4.0 star rating</td>\n",
       "      <td>checkin location within northcross mall shop...</td>\n",
       "      <td>0.506590</td>\n",
       "      <td>0.298617</td>\n",
       "      <td>Positive</td>\n",
       "    </tr>\n",
       "    <tr>\n",
       "      <th>...</th>\n",
       "      <td>...</td>\n",
       "      <td>...</td>\n",
       "      <td>...</td>\n",
       "      <td>...</td>\n",
       "      <td>...</td>\n",
       "      <td>...</td>\n",
       "    </tr>\n",
       "    <tr>\n",
       "      <th>7611</th>\n",
       "      <td>The Steeping Room</td>\n",
       "      <td>4.0 star rating</td>\n",
       "      <td>actually step restaurant chance favorites aus...</td>\n",
       "      <td>0.606667</td>\n",
       "      <td>0.311111</td>\n",
       "      <td>Positive</td>\n",
       "    </tr>\n",
       "    <tr>\n",
       "      <th>7612</th>\n",
       "      <td>The Steeping Room</td>\n",
       "      <td>5.0 star rating</td>\n",
       "      <td>ok coffeeing seating awesome many menu items ...</td>\n",
       "      <td>0.575000</td>\n",
       "      <td>0.387500</td>\n",
       "      <td>Positive</td>\n",
       "    </tr>\n",
       "    <tr>\n",
       "      <th>7613</th>\n",
       "      <td>The Steeping Room</td>\n",
       "      <td>4.0 star rating</td>\n",
       "      <td>loved coming tea vibe pretty fresh ordered st...</td>\n",
       "      <td>0.766667</td>\n",
       "      <td>0.416667</td>\n",
       "      <td>Positive</td>\n",
       "    </tr>\n",
       "    <tr>\n",
       "      <th>7614</th>\n",
       "      <td>The Steeping Room</td>\n",
       "      <td>3.0 star rating</td>\n",
       "      <td>average booths feel clean waitstaff friendly ...</td>\n",
       "      <td>0.583333</td>\n",
       "      <td>0.381944</td>\n",
       "      <td>Positive</td>\n",
       "    </tr>\n",
       "    <tr>\n",
       "      <th>7615</th>\n",
       "      <td>The Steeping Room</td>\n",
       "      <td>4.0 star rating</td>\n",
       "      <td>finally stopped colleague im glad did delicio...</td>\n",
       "      <td>1.000000</td>\n",
       "      <td>0.500000</td>\n",
       "      <td>Positive</td>\n",
       "    </tr>\n",
       "  </tbody>\n",
       "</table>\n",
       "<p>7616 rows × 6 columns</p>\n",
       "</div>"
      ],
      "text/plain": [
       "                             CafeName             rating  \\\n",
       "0     The Factory - Cafe With a Soul    5.0 star rating    \n",
       "1     The Factory - Cafe With a Soul    4.0 star rating    \n",
       "2     The Factory - Cafe With a Soul    4.0 star rating    \n",
       "3     The Factory - Cafe With a Soul    2.0 star rating    \n",
       "4     The Factory - Cafe With a Soul    4.0 star rating    \n",
       "...                               ...                ...   \n",
       "7611               The Steeping Room    4.0 star rating    \n",
       "7612               The Steeping Room    5.0 star rating    \n",
       "7613               The Steeping Room    4.0 star rating    \n",
       "7614               The Steeping Room    3.0 star rating    \n",
       "7615               The Steeping Room    4.0 star rating    \n",
       "\n",
       "                                           NumCleanText  Subjectivity  \\\n",
       "0       checkin love love loved vibe every corner co...      0.700000   \n",
       "1      listed date night austin vibe austin beautifu...      0.728571   \n",
       "2       checkin listed seating loved eclectic homey ...      0.511574   \n",
       "3      cool vibe drinks nice seating however everyth...      0.536111   \n",
       "4       checkin location within northcross mall shop...      0.506590   \n",
       "...                                                 ...           ...   \n",
       "7611   actually step restaurant chance favorites aus...      0.606667   \n",
       "7612   ok coffeeing seating awesome many menu items ...      0.575000   \n",
       "7613   loved coming tea vibe pretty fresh ordered st...      0.766667   \n",
       "7614   average booths feel clean waitstaff friendly ...      0.583333   \n",
       "7615   finally stopped colleague im glad did delicio...      1.000000   \n",
       "\n",
       "      Polarity  Analysis  \n",
       "0     0.356667  Positive  \n",
       "1     0.367857  Positive  \n",
       "2     0.137963  Positive  \n",
       "3     0.022222  Positive  \n",
       "4     0.298617  Positive  \n",
       "...        ...       ...  \n",
       "7611  0.311111  Positive  \n",
       "7612  0.387500  Positive  \n",
       "7613  0.416667  Positive  \n",
       "7614  0.381944  Positive  \n",
       "7615  0.500000  Positive  \n",
       "\n",
       "[7616 rows x 6 columns]"
      ]
     },
     "execution_count": 52,
     "metadata": {},
     "output_type": "execute_result"
    }
   ],
   "source": [
    "def getAnalysis(score):\n",
    "    if score < 0:\n",
    "        return 'Negative'\n",
    "    elif score == 0:\n",
    "        return 'Neutral'\n",
    "    else:\n",
    "        return 'Positive'\n",
    "\n",
    "data['Analysis'] = data['Polarity'].apply(getAnalysis)\n",
    "\n",
    "#Show the data\n",
    "data"
   ]
  },
  {
   "cell_type": "code",
   "execution_count": 53,
   "id": "23caf992",
   "metadata": {},
   "outputs": [
    {
     "data": {
      "text/plain": [
       "90.9"
      ]
     },
     "execution_count": 53,
     "metadata": {},
     "output_type": "execute_result"
    }
   ],
   "source": [
    "pText = data[data.Analysis == 'Positive']\n",
    "pText = pText['NumCleanText']\n",
    "\n",
    "round((pText.shape[0] / data.shape[0]) * 100, 1)"
   ]
  },
  {
   "cell_type": "code",
   "execution_count": 54,
   "id": "ecf0fe13",
   "metadata": {},
   "outputs": [
    {
     "data": {
      "text/plain": [
       "8.0"
      ]
     },
     "execution_count": 54,
     "metadata": {},
     "output_type": "execute_result"
    }
   ],
   "source": [
    "pText = data[data.Analysis == 'Negative']\n",
    "pText = pText['NumCleanText']\n",
    "\n",
    "round((pText.shape[0] / data.shape[0]) * 100, 1)"
   ]
  },
  {
   "cell_type": "code",
   "execution_count": 55,
   "id": "c2e74b65",
   "metadata": {
    "scrolled": false
   },
   "outputs": [
    {
     "data": {
      "image/png": "[encoded data removed]",
      "text/plain": [
       "<Figure size 432x288 with 1 Axes>"
      ]
     },
     "metadata": {
      "needs_background": "light"
     },
     "output_type": "display_data"
    }
   ],
   "source": [
    "data['Analysis'].value_counts()\n",
    "\n",
    "plt.title('Sentiment Analysis')\n",
    "plt.xlabel('Sentiment')\n",
    "plt.ylabel('Counts')\n",
    "data['Analysis'].value_counts().plot(kind='bar')\n",
    "plt.show()"
   ]
  },
  {
   "cell_type": "markdown",
   "id": "f1d32716",
   "metadata": {},
   "source": [
    "# Recommendation System"
   ]
  },
  {
   "cell_type": "code",
   "execution_count": 63,
   "id": "1ee42a23",
   "metadata": {},
   "outputs": [],
   "source": [
    "cosine_sim = linear_kernel(vect_text, vect_text)"
   ]
  },
  {
   "cell_type": "code",
   "execution_count": 64,
   "id": "628eb104",
   "metadata": {},
   "outputs": [],
   "source": [
    "def recommend(text, df, limit=5):\n",
    "    #get cos similarity between input (text) and reviews\n",
    "    data['cos_similarity']=linear_kernel(vect_text,vect.transform([text]))\n",
    "    \n",
    "    #get top n similar reviews with unique coffe shop names\n",
    "    sorted_df= data.sort_values('cos_similarity', ascending=False)\n",
    "    recomended_list=[]\n",
    "    for n in sorted_df['CafeName']:\n",
    "        if n not in recomended_list:\n",
    "            recomended_list.append(n)\n",
    "        if len(recomended_list)==limit:\n",
    "            break\n",
    "    #return the list of coffe shops\n",
    "    return recomended_list \n",
    "    "
   ]
  },
  {
   "cell_type": "code",
   "execution_count": 65,
   "id": "ac98c458",
   "metadata": {
    "scrolled": true
   },
   "outputs": [
    {
     "data": {
      "text/plain": [
       "['Dolce Neve ',\n",
       " 'Venezia Italian Gelato ',\n",
       " 'Teo ',\n",
       " \"Stinson's \",\n",
       " 'Corona Coffee ']"
      ]
     },
     "execution_count": 65,
     "metadata": {},
     "output_type": "execute_result"
    }
   ],
   "source": [
    "recommend('Dolce Neve  recommend again', data)"
   ]
  }
 ],
 "metadata": {
  "kernelspec": {
   "display_name": "Python 3 (ipykernel)",
   "language": "python",
   "name": "python3"
  },
  "language_info": {
   "codemirror_mode": {
    "name": "ipython",
    "version": 3
   },
   "file_extension": ".py",
   "mimetype": "text/x-python",
   "name": "python",
   "nbconvert_exporter": "python",
   "pygments_lexer": "ipython3",
   "version": "3.8.5"
  }
 },
 "nbformat": 4,
 "nbformat_minor": 5
}
